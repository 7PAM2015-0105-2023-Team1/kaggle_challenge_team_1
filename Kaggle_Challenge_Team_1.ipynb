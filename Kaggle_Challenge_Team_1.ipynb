{
  "nbformat": 4,
  "nbformat_minor": 0,
  "metadata": {
    "colab": {
      "provenance": [],
      "include_colab_link": true
    },
    "kernelspec": {
      "name": "python3",
      "display_name": "Python 3"
    },
    "language_info": {
      "name": "python"
    }
  },
  "cells": [
    {
      "cell_type": "markdown",
      "metadata": {
        "id": "view-in-github",
        "colab_type": "text"
      },
      "source": [
        "<a href=\"https://colab.research.google.com/github/7PAM2015-0105-2023-Team1/kaggle_challenge_team_1/blob/main/Kaggle_Challenge_Team_1.ipynb\" target=\"_parent\"><img src=\"https://colab.research.google.com/assets/colab-badge.svg\" alt=\"Open In Colab\"/></a>"
      ]
    },
    {
      "cell_type": "code",
      "source": [
        "import pandas as pd\n",
        "import numpy as np\n",
        "import matplotlib.pyplot as plt\n",
        "import seaborn as sns\n",
        "from sklearn.ensemble import RandomForestClassifier\n",
        "from sklearn.preprocessing import StandardScaler\n",
        "from sklearn.model_selection import GridSearchCV\n",
        "from sklearn.tree import DecisionTreeClassifier\n",
        "from sklearn.model_selection import train_test_split\n",
        "# Read the CSV file using pandas\n",
        "train_data = pd.read_csv('https://raw.githubusercontent.com/7PAM2015-0105-2023-Team1/kaggle_challenge_team_1/main/train.csv')\n",
        "test_data = pd.read_csv('https://raw.githubusercontent.com/7PAM2015-0105-2023-Team1/kaggle_challenge_team_1/main/test.csv')\n",
        "sample_submission_data = pd.read_csv('https://raw.githubusercontent.com/7PAM2015-0105-2023-Team1/kaggle_challenge_team_1/main/sample_submission.csv')\n",
        "\n",
        "# Display the first few rows of the DataFrame\n",
        "print(train_data.head())"
      ],
      "metadata": {
        "colab": {
          "base_uri": "https://localhost:8080/"
        },
        "id": "HyPjq0wD9dmu",
        "outputId": "da7ff13a-b756-43ad-8cc8-582dadbced7e"
      },
      "execution_count": null,
      "outputs": [
        {
          "output_type": "stream",
          "name": "stdout",
          "text": [
            "  PassengerId HomePlanet CryoSleep  Cabin  Destination   Age    VIP  \\\n",
            "0     0001_01     Europa     False  B/0/P  TRAPPIST-1e  39.0  False   \n",
            "1     0002_01      Earth     False  F/0/S  TRAPPIST-1e  24.0  False   \n",
            "2     0003_01     Europa     False  A/0/S  TRAPPIST-1e  58.0   True   \n",
            "3     0003_02     Europa     False  A/0/S  TRAPPIST-1e  33.0  False   \n",
            "4     0004_01      Earth     False  F/1/S  TRAPPIST-1e  16.0  False   \n",
            "\n",
            "   RoomService  FoodCourt  ShoppingMall     Spa  VRDeck               Name  \\\n",
            "0          0.0        0.0           0.0     0.0     0.0    Maham Ofracculy   \n",
            "1        109.0        9.0          25.0   549.0    44.0       Juanna Vines   \n",
            "2         43.0     3576.0           0.0  6715.0    49.0      Altark Susent   \n",
            "3          0.0     1283.0         371.0  3329.0   193.0       Solam Susent   \n",
            "4        303.0       70.0         151.0   565.0     2.0  Willy Santantines   \n",
            "\n",
            "   Transported  \n",
            "0        False  \n",
            "1         True  \n",
            "2        False  \n",
            "3        False  \n",
            "4         True  \n"
          ]
        }
      ]
    },
    {
      "cell_type": "code",
      "source": [
        "# Display the first few rows of the DataFrame\n",
        "print(test_data.head())\n"
      ],
      "metadata": {
        "id": "3kY71o-W1BG6"
      },
      "execution_count": null,
      "outputs": []
    },
    {
      "cell_type": "code",
      "source": [
        "# Display the first few rows of the DataFrame\n",
        "print(sample_submission_data.head())"
      ],
      "metadata": {
        "id": "gesyfWNo_QFU"
      },
      "execution_count": null,
      "outputs": []
    },
    {
      "cell_type": "code",
      "source": [
        "# checking size of data frame\n",
        "train_data.shape"
      ],
      "metadata": {
        "id": "2R1fBJzMAXO3"
      },
      "execution_count": null,
      "outputs": []
    },
    {
      "cell_type": "code",
      "source": [
        "train_data.describe()\n"
      ],
      "metadata": {
        "id": "6DgD2yqFGCCm"
      },
      "execution_count": null,
      "outputs": []
    },
    {
      "cell_type": "code",
      "source": [
        "# checking dtype of all columns\n",
        "train_data.dtypes"
      ],
      "metadata": {
        "id": "yuCpRUULA6RL"
      },
      "execution_count": null,
      "outputs": []
    },
    {
      "cell_type": "code",
      "source": [
        "# checking the unique values\n",
        "train_data.nunique()"
      ],
      "metadata": {
        "id": "NbvQ7Za1A7JP",
        "colab": {
          "base_uri": "https://localhost:8080/"
        },
        "outputId": "bff83e92-4f5b-4590-cfd1-4fe46b3259d0"
      },
      "execution_count": null,
      "outputs": [
        {
          "output_type": "execute_result",
          "data": {
            "text/plain": [
              "PassengerId     8693\n",
              "HomePlanet         3\n",
              "CryoSleep          2\n",
              "Cabin           6560\n",
              "Destination        3\n",
              "Age               80\n",
              "VIP                2\n",
              "RoomService     1273\n",
              "FoodCourt       1507\n",
              "ShoppingMall    1115\n",
              "Spa             1327\n",
              "VRDeck          1306\n",
              "Name            8473\n",
              "Transported        2\n",
              "dtype: int64"
            ]
          },
          "metadata": {},
          "execution_count": 94
        }
      ]
    },
    {
      "cell_type": "code",
      "source": [
        "# checkink columns separately\n",
        "train_data['HomePlanet'].unique()"
      ],
      "metadata": {
        "id": "ATcYn1umJBm6",
        "colab": {
          "base_uri": "https://localhost:8080/"
        },
        "outputId": "4a317d41-9642-4ff8-a215-f2a75cec6bb3"
      },
      "execution_count": null,
      "outputs": [
        {
          "output_type": "execute_result",
          "data": {
            "text/plain": [
              "array(['Europa', 'Earth', 'Mars', nan], dtype=object)"
            ]
          },
          "metadata": {},
          "execution_count": 86
        }
      ]
    },
    {
      "cell_type": "code",
      "source": [
        "# to check the null values\n",
        "train_data.isnull().sum()"
      ],
      "metadata": {
        "id": "XhKA2hvGLFnk"
      },
      "execution_count": null,
      "outputs": []
    },
    {
      "cell_type": "code",
      "source": [
        "droplane = train_data.drop(['CryoSleep', 'Cabin' , 'VIP' , 'Destination' , 'Transported'], axis = 1)\n",
        "droplane.head()"
      ],
      "metadata": {
        "id": "_cxZQeaXTJfe"
      },
      "execution_count": null,
      "outputs": []
    },
    {
      "cell_type": "code",
      "source": [
        "# explaining the corelation matrix\n",
        "corelation = droplane.corr(numeric_only=True)\n",
        "sns.heatmap(corelation, xticklabels=corelation.columns, yticklabels=corelation.columns, annot=True)"
      ],
      "metadata": {
        "id": "GQ4_2VM7Xe2t"
      },
      "execution_count": null,
      "outputs": []
    },
    {
      "cell_type": "code",
      "source": [
        "sns.pairplot(droplane)"
      ],
      "metadata": {
        "id": "ugIEdSwTajT5"
      },
      "execution_count": null,
      "outputs": []
    },
    {
      "cell_type": "code",
      "source": [
        "sns.relplot(x='Spa' , y='VRDeck' , hue='HomePlanet' , data=train_data)"
      ],
      "metadata": {
        "id": "SH9rqkplbGy5"
      },
      "execution_count": null,
      "outputs": []
    },
    {
      "cell_type": "code",
      "source": [
        "sns.histplot(droplane['Age'])\n",
        "\n"
      ],
      "metadata": {
        "colab": {
          "base_uri": "https://localhost:8080/",
          "height": 467
        },
        "id": "JZ_sWDhppqF_",
        "outputId": "2c93138c-f568-4def-9922-bbdde9fc4c33"
      },
      "execution_count": null,
      "outputs": [
        {
          "output_type": "execute_result",
          "data": {
            "text/plain": [
              "<Axes: xlabel='Age', ylabel='Count'>"
            ]
          },
          "metadata": {},
          "execution_count": 115
        },
        {
          "output_type": "display_data",
          "data": {
            "text/plain": [
              "<Figure size 640x480 with 1 Axes>"
            ],
            "image/png": "[encoded data removed]"
          },
          "metadata": {}
        }
      ]
    },
    {
      "cell_type": "code",
      "source": [
        "sns.displot(droplane['HomePlanet'])"
      ],
      "metadata": {
        "colab": {
          "base_uri": "https://localhost:8080/",
          "height": 524
        },
        "id": "uaIc-c0_rCcL",
        "outputId": "30b9c33b-d87d-44c2-fff5-8557d4995791"
      },
      "execution_count": null,
      "outputs": [
        {
          "output_type": "execute_result",
          "data": {
            "text/plain": [
              "<seaborn.axisgrid.FacetGrid at 0x7dbdb6babe20>"
            ]
          },
          "metadata": {},
          "execution_count": 118
        },
        {
          "output_type": "display_data",
          "data": {
            "text/plain": [
              "<Figure size 500x500 with 1 Axes>"
            ],
            "image/png": "[encoded data removed]"
          },
          "metadata": {}
        }
      ]
    },
    {
      "cell_type": "code",
      "source": [
        "sns.catplot(x='HomePlanet' , kind='box' , data=droplane)"
      ],
      "metadata": {
        "colab": {
          "base_uri": "https://localhost:8080/",
          "height": 524
        },
        "id": "WX1iXS60tPk4",
        "outputId": "2c6a0843-ad00-4ac9-a359-b165cca56c6e"
      },
      "execution_count": null,
      "outputs": [
        {
          "output_type": "execute_result",
          "data": {
            "text/plain": [
              "<seaborn.axisgrid.FacetGrid at 0x7dbdb6b3c0d0>"
            ]
          },
          "metadata": {},
          "execution_count": 128
        },
        {
          "output_type": "display_data",
          "data": {
            "text/plain": [
              "<Figure size 511.111x500 with 1 Axes>"
            ],
            "image/png": "[encoded data removed]"
          },
          "metadata": {}
        }
      ]
    },
    {
      "cell_type": "code",
      "source": [
        "# checking size of data frame\n",
        "test_data.shape"
      ],
      "metadata": {
        "id": "qNmmHvTQAa8G"
      },
      "execution_count": null,
      "outputs": []
    },
    {
      "cell_type": "code",
      "source": [
        "# checking dtype of all columns\n",
        "test_data.dtypes"
      ],
      "metadata": {
        "id": "JXpg3dQMBQNb"
      },
      "execution_count": null,
      "outputs": []
    },
    {
      "cell_type": "code",
      "source": [
        "# checking the unique values\n",
        "test_data.nunique()"
      ],
      "metadata": {
        "id": "LAs9pfEAHpa3"
      },
      "execution_count": null,
      "outputs": []
    },
    {
      "cell_type": "code",
      "source": [
        "# to check the null values\n",
        "test_data.isnull().sum()"
      ],
      "metadata": {
        "id": "knI0PM5_Pkvr"
      },
      "execution_count": null,
      "outputs": []
    },
    {
      "cell_type": "code",
      "source": [
        "# checking size of data frame\n",
        "sample_submission_data"
      ],
      "metadata": {
        "id": "JkIUyg_HAhbL"
      },
      "execution_count": null,
      "outputs": []
    },
    {
      "cell_type": "code",
      "source": [
        "# checking dtype of all columns\n",
        "sample_submission_data.dtypes"
      ],
      "metadata": {
        "id": "tFf9-rvmBVdL"
      },
      "execution_count": null,
      "outputs": []
    },
    {
      "cell_type": "code",
      "source": [
        "# checking the unique values\n",
        "sample_submission_data.nunique()"
      ],
      "metadata": {
        "id": "m-VASJNNCqD2"
      },
      "execution_count": null,
      "outputs": []
    }
  ]
}