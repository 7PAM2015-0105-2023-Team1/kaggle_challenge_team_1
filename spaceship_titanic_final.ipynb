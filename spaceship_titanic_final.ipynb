{
  "cells": [
    {
      "cell_type": "markdown",
      "metadata": {
        "id": "view-in-github",
        "colab_type": "text"
      },
      "source": [
        "<a href=\"https://colab.research.google.com/github/7PAM2015-0105-2023-Team1/kaggle_challenge_team_1/blob/main/spaceship_titanic_final.ipynb\" target=\"_parent\"><img src=\"https://colab.research.google.com/assets/colab-badge.svg\" alt=\"Open In Colab\"/></a>"
      ]
    },
    {
      "cell_type": "code",
      "execution_count": null,
      "id": "0f5b2a77",
      "metadata": {
        "execution": {
          "iopub.execute_input": "2024-03-06T20:23:34.848048Z",
          "iopub.status.busy": "2024-03-06T20:23:34.847317Z",
          "iopub.status.idle": "2024-03-06T20:23:39.449992Z",
          "shell.execute_reply": "2024-03-06T20:23:39.448553Z"
        },
        "papermill": {
          "duration": 4.618869,
          "end_time": "2024-03-06T20:23:39.453209",
          "exception": false,
          "start_time": "2024-03-06T20:23:34.834340",
          "status": "completed"
        },
        "tags": [],
        "id": "0f5b2a77"
      },
      "outputs": [],
      "source": [
        "import pandas as pd\n",
        "import numpy as np\n",
        "import matplotlib.pyplot as plt\n",
        "import seaborn as sns\n",
        "%matplotlib inline\n",
        "\n",
        "## our Models\n",
        "from sklearn.linear_model import LogisticRegression\n",
        "from sklearn.neighbors import KNeighborsClassifier\n",
        "from sklearn.ensemble import RandomForestClassifier\n",
        "from lightgbm import LGBMClassifier\n",
        "\n",
        "## Model Evaulations\n",
        "from sklearn.model_selection import train_test_split, cross_val_score\n",
        "from sklearn.model_selection import RandomizedSearchCV , GridSearchCV\n",
        "from sklearn.metrics import confusion_matrix , classification_report\n",
        "from sklearn.metrics import precision_score , recall_score , f1_score,accuracy_score\n",
        "from sklearn.metrics import RocCurveDisplay\n",
        "\n",
        "from sklearn.model_selection import GridSearchCV\n",
        "from sklearn.metrics import accuracy_score"
      ]
    },
    {
      "cell_type": "code",
      "execution_count": null,
      "id": "79cdb949",
      "metadata": {
        "execution": {
          "iopub.execute_input": "2024-03-06T20:23:39.476483Z",
          "iopub.status.busy": "2024-03-06T20:23:39.475370Z",
          "iopub.status.idle": "2024-03-06T20:23:39.485119Z",
          "shell.execute_reply": "2024-03-06T20:23:39.483764Z"
        },
        "papermill": {
          "duration": 0.02451,
          "end_time": "2024-03-06T20:23:39.488044",
          "exception": false,
          "start_time": "2024-03-06T20:23:39.463534",
          "status": "completed"
        },
        "tags": [],
        "id": "79cdb949",
        "outputId": "817a7d20-4989-46ac-daf5-ee54e82d5859"
      },
      "outputs": [
        {
          "name": "stdout",
          "output_type": "stream",
          "text": [
            "/kaggle/input/spaceship-titanic/sample_submission.csv\n",
            "/kaggle/input/spaceship-titanic/train.csv\n",
            "/kaggle/input/spaceship-titanic/test.csv\n"
          ]
        }
      ],
      "source": [
        "import os\n",
        "for dirname, _, filenames in os.walk('/kaggle/input'):\n",
        "    for filename in filenames:\n",
        "        print(os.path.join(dirname,filename))"
      ]
    },
    {
      "cell_type": "code",
      "execution_count": null,
      "id": "6249b0f7",
      "metadata": {
        "execution": {
          "iopub.execute_input": "2024-03-06T20:23:39.513095Z",
          "iopub.status.busy": "2024-03-06T20:23:39.511794Z",
          "iopub.status.idle": "2024-03-06T20:23:39.647810Z",
          "shell.execute_reply": "2024-03-06T20:23:39.646493Z"
        },
        "papermill": {
          "duration": 0.152297,
          "end_time": "2024-03-06T20:23:39.650754",
          "exception": false,
          "start_time": "2024-03-06T20:23:39.498457",
          "status": "completed"
        },
        "tags": [],
        "id": "6249b0f7",
        "outputId": "82673d88-358f-47dc-e297-20c9dc0c5e92"
      },
      "outputs": [
        {
          "data": {
            "text/html": [
              "<div>\n",
              "<style scoped>\n",
              "    .dataframe tbody tr th:only-of-type {\n",
              "        vertical-align: middle;\n",
              "    }\n",
              "\n",
              "    .dataframe tbody tr th {\n",
              "        vertical-align: top;\n",
              "    }\n",
              "\n",
              "    .dataframe thead th {\n",
              "        text-align: right;\n",
              "    }\n",
              "</style>\n",
              "<table border=\"1\" class=\"dataframe\">\n",
              "  <thead>\n",
              "    <tr style=\"text-align: right;\">\n",
              "      <th></th>\n",
              "      <th>PassengerId</th>\n",
              "      <th>HomePlanet</th>\n",
              "      <th>CryoSleep</th>\n",
              "      <th>Cabin</th>\n",
              "      <th>Destination</th>\n",
              "      <th>Age</th>\n",
              "      <th>VIP</th>\n",
              "      <th>RoomService</th>\n",
              "      <th>FoodCourt</th>\n",
              "      <th>ShoppingMall</th>\n",
              "      <th>Spa</th>\n",
              "      <th>VRDeck</th>\n",
              "      <th>Name</th>\n",
              "    </tr>\n",
              "  </thead>\n",
              "  <tbody>\n",
              "    <tr>\n",
              "      <th>0</th>\n",
              "      <td>0013_01</td>\n",
              "      <td>Earth</td>\n",
              "      <td>True</td>\n",
              "      <td>G/3/S</td>\n",
              "      <td>TRAPPIST-1e</td>\n",
              "      <td>27.0</td>\n",
              "      <td>False</td>\n",
              "      <td>0.0</td>\n",
              "      <td>0.0</td>\n",
              "      <td>0.0</td>\n",
              "      <td>0.0</td>\n",
              "      <td>0.0</td>\n",
              "      <td>Nelly Carsoning</td>\n",
              "    </tr>\n",
              "    <tr>\n",
              "      <th>1</th>\n",
              "      <td>0018_01</td>\n",
              "      <td>Earth</td>\n",
              "      <td>False</td>\n",
              "      <td>F/4/S</td>\n",
              "      <td>TRAPPIST-1e</td>\n",
              "      <td>19.0</td>\n",
              "      <td>False</td>\n",
              "      <td>0.0</td>\n",
              "      <td>9.0</td>\n",
              "      <td>0.0</td>\n",
              "      <td>2823.0</td>\n",
              "      <td>0.0</td>\n",
              "      <td>Lerome Peckers</td>\n",
              "    </tr>\n",
              "    <tr>\n",
              "      <th>2</th>\n",
              "      <td>0019_01</td>\n",
              "      <td>Europa</td>\n",
              "      <td>True</td>\n",
              "      <td>C/0/S</td>\n",
              "      <td>55 Cancri e</td>\n",
              "      <td>31.0</td>\n",
              "      <td>False</td>\n",
              "      <td>0.0</td>\n",
              "      <td>0.0</td>\n",
              "      <td>0.0</td>\n",
              "      <td>0.0</td>\n",
              "      <td>0.0</td>\n",
              "      <td>Sabih Unhearfus</td>\n",
              "    </tr>\n",
              "    <tr>\n",
              "      <th>3</th>\n",
              "      <td>0021_01</td>\n",
              "      <td>Europa</td>\n",
              "      <td>False</td>\n",
              "      <td>C/1/S</td>\n",
              "      <td>TRAPPIST-1e</td>\n",
              "      <td>38.0</td>\n",
              "      <td>False</td>\n",
              "      <td>0.0</td>\n",
              "      <td>6652.0</td>\n",
              "      <td>0.0</td>\n",
              "      <td>181.0</td>\n",
              "      <td>585.0</td>\n",
              "      <td>Meratz Caltilter</td>\n",
              "    </tr>\n",
              "    <tr>\n",
              "      <th>4</th>\n",
              "      <td>0023_01</td>\n",
              "      <td>Earth</td>\n",
              "      <td>False</td>\n",
              "      <td>F/5/S</td>\n",
              "      <td>TRAPPIST-1e</td>\n",
              "      <td>20.0</td>\n",
              "      <td>False</td>\n",
              "      <td>10.0</td>\n",
              "      <td>0.0</td>\n",
              "      <td>635.0</td>\n",
              "      <td>0.0</td>\n",
              "      <td>0.0</td>\n",
              "      <td>Brence Harperez</td>\n",
              "    </tr>\n",
              "  </tbody>\n",
              "</table>\n",
              "</div>"
            ],
            "text/plain": [
              "  PassengerId HomePlanet CryoSleep  Cabin  Destination   Age    VIP  \\\n",
              "0     0013_01      Earth      True  G/3/S  TRAPPIST-1e  27.0  False   \n",
              "1     0018_01      Earth     False  F/4/S  TRAPPIST-1e  19.0  False   \n",
              "2     0019_01     Europa      True  C/0/S  55 Cancri e  31.0  False   \n",
              "3     0021_01     Europa     False  C/1/S  TRAPPIST-1e  38.0  False   \n",
              "4     0023_01      Earth     False  F/5/S  TRAPPIST-1e  20.0  False   \n",
              "\n",
              "   RoomService  FoodCourt  ShoppingMall     Spa  VRDeck              Name  \n",
              "0          0.0        0.0           0.0     0.0     0.0   Nelly Carsoning  \n",
              "1          0.0        9.0           0.0  2823.0     0.0    Lerome Peckers  \n",
              "2          0.0        0.0           0.0     0.0     0.0   Sabih Unhearfus  \n",
              "3          0.0     6652.0           0.0   181.0   585.0  Meratz Caltilter  \n",
              "4         10.0        0.0         635.0     0.0     0.0   Brence Harperez  "
            ]
          },
          "execution_count": 3,
          "metadata": {},
          "output_type": "execute_result"
        }
      ],
      "source": [
        "train=pd.read_csv(\"/kaggle/input/spaceship-titanic/train.csv\")\n",
        "test=pd.read_csv(\"/kaggle/input/spaceship-titanic/test.csv\")\n",
        "test.head()"
      ]
    },
    {
      "cell_type": "code",
      "execution_count": null,
      "id": "aacb6fc7",
      "metadata": {
        "execution": {
          "iopub.execute_input": "2024-03-06T20:23:39.674661Z",
          "iopub.status.busy": "2024-03-06T20:23:39.674153Z",
          "iopub.status.idle": "2024-03-06T20:23:39.682802Z",
          "shell.execute_reply": "2024-03-06T20:23:39.681393Z"
        },
        "papermill": {
          "duration": 0.023933,
          "end_time": "2024-03-06T20:23:39.685467",
          "exception": false,
          "start_time": "2024-03-06T20:23:39.661534",
          "status": "completed"
        },
        "scrolled": true,
        "tags": [],
        "id": "aacb6fc7",
        "outputId": "98bf2ae4-83bb-4546-db37-e0e468576f7e"
      },
      "outputs": [
        {
          "data": {
            "text/plain": [
              "8693"
            ]
          },
          "execution_count": 4,
          "metadata": {},
          "output_type": "execute_result"
        }
      ],
      "source": [
        "len(train)"
      ]
    },
    {
      "cell_type": "markdown",
      "id": "f71b7208",
      "metadata": {
        "papermill": {
          "duration": 0.010486,
          "end_time": "2024-03-06T20:23:39.706993",
          "exception": false,
          "start_time": "2024-03-06T20:23:39.696507",
          "status": "completed"
        },
        "tags": [],
        "id": "f71b7208"
      },
      "source": [
        "### Data Cleaning"
      ]
    },
    {
      "cell_type": "code",
      "execution_count": null,
      "id": "5f6546d1",
      "metadata": {
        "execution": {
          "iopub.execute_input": "2024-03-06T20:23:39.730437Z",
          "iopub.status.busy": "2024-03-06T20:23:39.729941Z",
          "iopub.status.idle": "2024-03-06T20:23:39.773122Z",
          "shell.execute_reply": "2024-03-06T20:23:39.771752Z"
        },
        "papermill": {
          "duration": 0.058358,
          "end_time": "2024-03-06T20:23:39.775939",
          "exception": false,
          "start_time": "2024-03-06T20:23:39.717581",
          "status": "completed"
        },
        "tags": [],
        "id": "5f6546d1",
        "outputId": "0cf119d5-d16f-41d9-e190-2fd8c509b02d"
      },
      "outputs": [
        {
          "data": {
            "text/html": [
              "<div>\n",
              "<style scoped>\n",
              "    .dataframe tbody tr th:only-of-type {\n",
              "        vertical-align: middle;\n",
              "    }\n",
              "\n",
              "    .dataframe tbody tr th {\n",
              "        vertical-align: top;\n",
              "    }\n",
              "\n",
              "    .dataframe thead th {\n",
              "        text-align: right;\n",
              "    }\n",
              "</style>\n",
              "<table border=\"1\" class=\"dataframe\">\n",
              "  <thead>\n",
              "    <tr style=\"text-align: right;\">\n",
              "      <th></th>\n",
              "      <th>PassengerId</th>\n",
              "      <th>HomePlanet</th>\n",
              "      <th>CryoSleep</th>\n",
              "      <th>Cabin</th>\n",
              "      <th>Destination</th>\n",
              "      <th>Age</th>\n",
              "      <th>VIP</th>\n",
              "      <th>RoomService</th>\n",
              "      <th>FoodCourt</th>\n",
              "      <th>ShoppingMall</th>\n",
              "      <th>Spa</th>\n",
              "      <th>VRDeck</th>\n",
              "      <th>Transported</th>\n",
              "    </tr>\n",
              "  </thead>\n",
              "  <tbody>\n",
              "    <tr>\n",
              "      <th>0</th>\n",
              "      <td>0001_01</td>\n",
              "      <td>Europa</td>\n",
              "      <td>False</td>\n",
              "      <td>B/0/P</td>\n",
              "      <td>TRAPPIST-1e</td>\n",
              "      <td>39.0</td>\n",
              "      <td>False</td>\n",
              "      <td>0.0</td>\n",
              "      <td>0.0</td>\n",
              "      <td>0.0</td>\n",
              "      <td>0.0</td>\n",
              "      <td>0.0</td>\n",
              "      <td>False</td>\n",
              "    </tr>\n",
              "    <tr>\n",
              "      <th>1</th>\n",
              "      <td>0002_01</td>\n",
              "      <td>Earth</td>\n",
              "      <td>False</td>\n",
              "      <td>F/0/S</td>\n",
              "      <td>TRAPPIST-1e</td>\n",
              "      <td>24.0</td>\n",
              "      <td>False</td>\n",
              "      <td>109.0</td>\n",
              "      <td>9.0</td>\n",
              "      <td>25.0</td>\n",
              "      <td>549.0</td>\n",
              "      <td>44.0</td>\n",
              "      <td>True</td>\n",
              "    </tr>\n",
              "    <tr>\n",
              "      <th>2</th>\n",
              "      <td>0003_01</td>\n",
              "      <td>Europa</td>\n",
              "      <td>False</td>\n",
              "      <td>A/0/S</td>\n",
              "      <td>TRAPPIST-1e</td>\n",
              "      <td>58.0</td>\n",
              "      <td>True</td>\n",
              "      <td>43.0</td>\n",
              "      <td>3576.0</td>\n",
              "      <td>0.0</td>\n",
              "      <td>6715.0</td>\n",
              "      <td>49.0</td>\n",
              "      <td>False</td>\n",
              "    </tr>\n",
              "    <tr>\n",
              "      <th>3</th>\n",
              "      <td>0003_02</td>\n",
              "      <td>Europa</td>\n",
              "      <td>False</td>\n",
              "      <td>A/0/S</td>\n",
              "      <td>TRAPPIST-1e</td>\n",
              "      <td>33.0</td>\n",
              "      <td>False</td>\n",
              "      <td>0.0</td>\n",
              "      <td>1283.0</td>\n",
              "      <td>371.0</td>\n",
              "      <td>3329.0</td>\n",
              "      <td>193.0</td>\n",
              "      <td>False</td>\n",
              "    </tr>\n",
              "    <tr>\n",
              "      <th>4</th>\n",
              "      <td>0004_01</td>\n",
              "      <td>Earth</td>\n",
              "      <td>False</td>\n",
              "      <td>F/1/S</td>\n",
              "      <td>TRAPPIST-1e</td>\n",
              "      <td>16.0</td>\n",
              "      <td>False</td>\n",
              "      <td>303.0</td>\n",
              "      <td>70.0</td>\n",
              "      <td>151.0</td>\n",
              "      <td>565.0</td>\n",
              "      <td>2.0</td>\n",
              "      <td>True</td>\n",
              "    </tr>\n",
              "    <tr>\n",
              "      <th>...</th>\n",
              "      <td>...</td>\n",
              "      <td>...</td>\n",
              "      <td>...</td>\n",
              "      <td>...</td>\n",
              "      <td>...</td>\n",
              "      <td>...</td>\n",
              "      <td>...</td>\n",
              "      <td>...</td>\n",
              "      <td>...</td>\n",
              "      <td>...</td>\n",
              "      <td>...</td>\n",
              "      <td>...</td>\n",
              "      <td>...</td>\n",
              "    </tr>\n",
              "    <tr>\n",
              "      <th>8688</th>\n",
              "      <td>9276_01</td>\n",
              "      <td>Europa</td>\n",
              "      <td>False</td>\n",
              "      <td>A/98/P</td>\n",
              "      <td>55 Cancri e</td>\n",
              "      <td>41.0</td>\n",
              "      <td>True</td>\n",
              "      <td>0.0</td>\n",
              "      <td>6819.0</td>\n",
              "      <td>0.0</td>\n",
              "      <td>1643.0</td>\n",
              "      <td>74.0</td>\n",
              "      <td>False</td>\n",
              "    </tr>\n",
              "    <tr>\n",
              "      <th>8689</th>\n",
              "      <td>9278_01</td>\n",
              "      <td>Earth</td>\n",
              "      <td>True</td>\n",
              "      <td>G/1499/S</td>\n",
              "      <td>PSO J318.5-22</td>\n",
              "      <td>18.0</td>\n",
              "      <td>False</td>\n",
              "      <td>0.0</td>\n",
              "      <td>0.0</td>\n",
              "      <td>0.0</td>\n",
              "      <td>0.0</td>\n",
              "      <td>0.0</td>\n",
              "      <td>False</td>\n",
              "    </tr>\n",
              "    <tr>\n",
              "      <th>8690</th>\n",
              "      <td>9279_01</td>\n",
              "      <td>Earth</td>\n",
              "      <td>False</td>\n",
              "      <td>G/1500/S</td>\n",
              "      <td>TRAPPIST-1e</td>\n",
              "      <td>26.0</td>\n",
              "      <td>False</td>\n",
              "      <td>0.0</td>\n",
              "      <td>0.0</td>\n",
              "      <td>1872.0</td>\n",
              "      <td>1.0</td>\n",
              "      <td>0.0</td>\n",
              "      <td>True</td>\n",
              "    </tr>\n",
              "    <tr>\n",
              "      <th>8691</th>\n",
              "      <td>9280_01</td>\n",
              "      <td>Europa</td>\n",
              "      <td>False</td>\n",
              "      <td>E/608/S</td>\n",
              "      <td>55 Cancri e</td>\n",
              "      <td>32.0</td>\n",
              "      <td>False</td>\n",
              "      <td>0.0</td>\n",
              "      <td>1049.0</td>\n",
              "      <td>0.0</td>\n",
              "      <td>353.0</td>\n",
              "      <td>3235.0</td>\n",
              "      <td>False</td>\n",
              "    </tr>\n",
              "    <tr>\n",
              "      <th>8692</th>\n",
              "      <td>9280_02</td>\n",
              "      <td>Europa</td>\n",
              "      <td>False</td>\n",
              "      <td>E/608/S</td>\n",
              "      <td>TRAPPIST-1e</td>\n",
              "      <td>44.0</td>\n",
              "      <td>False</td>\n",
              "      <td>126.0</td>\n",
              "      <td>4688.0</td>\n",
              "      <td>0.0</td>\n",
              "      <td>0.0</td>\n",
              "      <td>12.0</td>\n",
              "      <td>True</td>\n",
              "    </tr>\n",
              "  </tbody>\n",
              "</table>\n",
              "<p>8693 rows × 13 columns</p>\n",
              "</div>"
            ],
            "text/plain": [
              "     PassengerId HomePlanet CryoSleep     Cabin    Destination   Age    VIP  \\\n",
              "0        0001_01     Europa     False     B/0/P    TRAPPIST-1e  39.0  False   \n",
              "1        0002_01      Earth     False     F/0/S    TRAPPIST-1e  24.0  False   \n",
              "2        0003_01     Europa     False     A/0/S    TRAPPIST-1e  58.0   True   \n",
              "3        0003_02     Europa     False     A/0/S    TRAPPIST-1e  33.0  False   \n",
              "4        0004_01      Earth     False     F/1/S    TRAPPIST-1e  16.0  False   \n",
              "...          ...        ...       ...       ...            ...   ...    ...   \n",
              "8688     9276_01     Europa     False    A/98/P    55 Cancri e  41.0   True   \n",
              "8689     9278_01      Earth      True  G/1499/S  PSO J318.5-22  18.0  False   \n",
              "8690     9279_01      Earth     False  G/1500/S    TRAPPIST-1e  26.0  False   \n",
              "8691     9280_01     Europa     False   E/608/S    55 Cancri e  32.0  False   \n",
              "8692     9280_02     Europa     False   E/608/S    TRAPPIST-1e  44.0  False   \n",
              "\n",
              "      RoomService  FoodCourt  ShoppingMall     Spa  VRDeck  Transported  \n",
              "0             0.0        0.0           0.0     0.0     0.0        False  \n",
              "1           109.0        9.0          25.0   549.0    44.0         True  \n",
              "2            43.0     3576.0           0.0  6715.0    49.0        False  \n",
              "3             0.0     1283.0         371.0  3329.0   193.0        False  \n",
              "4           303.0       70.0         151.0   565.0     2.0         True  \n",
              "...           ...        ...           ...     ...     ...          ...  \n",
              "8688          0.0     6819.0           0.0  1643.0    74.0        False  \n",
              "8689          0.0        0.0           0.0     0.0     0.0        False  \n",
              "8690          0.0        0.0        1872.0     1.0     0.0         True  \n",
              "8691          0.0     1049.0           0.0   353.0  3235.0        False  \n",
              "8692        126.0     4688.0           0.0     0.0    12.0         True  \n",
              "\n",
              "[8693 rows x 13 columns]"
            ]
          },
          "execution_count": 5,
          "metadata": {},
          "output_type": "execute_result"
        }
      ],
      "source": [
        "df_train=train.drop(\"Name\",axis=1)\n",
        "df_test=test.drop(\"Name\",axis=1)\n",
        "df_train"
      ]
    },
    {
      "cell_type": "markdown",
      "id": "79420ad6",
      "metadata": {
        "papermill": {
          "duration": 0.011286,
          "end_time": "2024-03-06T20:23:39.798385",
          "exception": false,
          "start_time": "2024-03-06T20:23:39.787099",
          "status": "completed"
        },
        "tags": [],
        "id": "79420ad6"
      },
      "source": [
        "## Check on null values"
      ]
    },
    {
      "cell_type": "code",
      "execution_count": null,
      "id": "927da565",
      "metadata": {
        "execution": {
          "iopub.execute_input": "2024-03-06T20:23:39.824865Z",
          "iopub.status.busy": "2024-03-06T20:23:39.824327Z",
          "iopub.status.idle": "2024-03-06T20:23:39.843033Z",
          "shell.execute_reply": "2024-03-06T20:23:39.841752Z"
        },
        "papermill": {
          "duration": 0.035885,
          "end_time": "2024-03-06T20:23:39.845955",
          "exception": false,
          "start_time": "2024-03-06T20:23:39.810070",
          "status": "completed"
        },
        "scrolled": true,
        "tags": [],
        "id": "927da565",
        "outputId": "bd9a7b26-ee53-4828-ef01-7001550dfc2b"
      },
      "outputs": [
        {
          "data": {
            "text/plain": [
              "PassengerId       0\n",
              "HomePlanet      201\n",
              "CryoSleep       217\n",
              "Cabin           199\n",
              "Destination     182\n",
              "Age             179\n",
              "VIP             203\n",
              "RoomService     181\n",
              "FoodCourt       183\n",
              "ShoppingMall    208\n",
              "Spa             183\n",
              "VRDeck          188\n",
              "Transported       0\n",
              "dtype: int64"
            ]
          },
          "execution_count": 6,
          "metadata": {},
          "output_type": "execute_result"
        }
      ],
      "source": [
        "df_train.isna().sum()"
      ]
    },
    {
      "cell_type": "code",
      "execution_count": null,
      "id": "060b5f4f",
      "metadata": {
        "execution": {
          "iopub.execute_input": "2024-03-06T20:23:39.870642Z",
          "iopub.status.busy": "2024-03-06T20:23:39.870116Z",
          "iopub.status.idle": "2024-03-06T20:23:39.884634Z",
          "shell.execute_reply": "2024-03-06T20:23:39.883048Z"
        },
        "papermill": {
          "duration": 0.030024,
          "end_time": "2024-03-06T20:23:39.887214",
          "exception": false,
          "start_time": "2024-03-06T20:23:39.857190",
          "status": "completed"
        },
        "tags": [],
        "id": "060b5f4f",
        "outputId": "18a69ce3-edce-415e-a1dc-1fe01b0b4f79"
      },
      "outputs": [
        {
          "data": {
            "text/plain": [
              "PassengerId       0\n",
              "HomePlanet       87\n",
              "CryoSleep        93\n",
              "Cabin           100\n",
              "Destination      92\n",
              "Age              91\n",
              "VIP              93\n",
              "RoomService      82\n",
              "FoodCourt       106\n",
              "ShoppingMall     98\n",
              "Spa             101\n",
              "VRDeck           80\n",
              "dtype: int64"
            ]
          },
          "execution_count": 7,
          "metadata": {},
          "output_type": "execute_result"
        }
      ],
      "source": [
        "df_test.isna().sum()"
      ]
    },
    {
      "cell_type": "code",
      "execution_count": null,
      "id": "fecf479c",
      "metadata": {
        "execution": {
          "iopub.execute_input": "2024-03-06T20:23:39.912822Z",
          "iopub.status.busy": "2024-03-06T20:23:39.912334Z",
          "iopub.status.idle": "2024-03-06T20:23:39.946178Z",
          "shell.execute_reply": "2024-03-06T20:23:39.944833Z"
        },
        "papermill": {
          "duration": 0.050294,
          "end_time": "2024-03-06T20:23:39.949191",
          "exception": false,
          "start_time": "2024-03-06T20:23:39.898897",
          "status": "completed"
        },
        "tags": [],
        "id": "fecf479c",
        "outputId": "2f61ab6f-3373-4ea8-ead9-4553a455df30"
      },
      "outputs": [
        {
          "name": "stdout",
          "output_type": "stream",
          "text": [
            "<class 'pandas.core.frame.DataFrame'>\n",
            "RangeIndex: 8693 entries, 0 to 8692\n",
            "Data columns (total 13 columns):\n",
            " #   Column        Non-Null Count  Dtype  \n",
            "---  ------        --------------  -----  \n",
            " 0   PassengerId   8693 non-null   object \n",
            " 1   HomePlanet    8492 non-null   object \n",
            " 2   CryoSleep     8476 non-null   object \n",
            " 3   Cabin         8494 non-null   object \n",
            " 4   Destination   8511 non-null   object \n",
            " 5   Age           8514 non-null   float64\n",
            " 6   VIP           8490 non-null   object \n",
            " 7   RoomService   8512 non-null   float64\n",
            " 8   FoodCourt     8510 non-null   float64\n",
            " 9   ShoppingMall  8485 non-null   float64\n",
            " 10  Spa           8510 non-null   float64\n",
            " 11  VRDeck        8505 non-null   float64\n",
            " 12  Transported   8693 non-null   bool   \n",
            "dtypes: bool(1), float64(6), object(6)\n",
            "memory usage: 823.6+ KB\n"
          ]
        }
      ],
      "source": [
        "df_train.info()"
      ]
    },
    {
      "cell_type": "code",
      "execution_count": null,
      "id": "e558f1b0",
      "metadata": {
        "execution": {
          "iopub.execute_input": "2024-03-06T20:23:39.976459Z",
          "iopub.status.busy": "2024-03-06T20:23:39.975647Z",
          "iopub.status.idle": "2024-03-06T20:23:39.987635Z",
          "shell.execute_reply": "2024-03-06T20:23:39.985558Z"
        },
        "papermill": {
          "duration": 0.029449,
          "end_time": "2024-03-06T20:23:39.990575",
          "exception": false,
          "start_time": "2024-03-06T20:23:39.961126",
          "status": "completed"
        },
        "scrolled": true,
        "tags": [],
        "id": "e558f1b0",
        "outputId": "ecc19666-34cc-42ad-a866-25b8c85dfb98"
      },
      "outputs": [
        {
          "name": "stdout",
          "output_type": "stream",
          "text": [
            "Numerical Columns:\n",
            "['Age', 'RoomService', 'FoodCourt', 'ShoppingMall', 'Spa', 'VRDeck']\n",
            "\n",
            "Categorical Columns:\n",
            "['PassengerId', 'HomePlanet', 'CryoSleep', 'Cabin', 'Destination', 'VIP']\n"
          ]
        }
      ],
      "source": [
        "# print all numerical columns and categorical columns\n",
        "def print_numerical_and_categorical_columns(df):\n",
        "    # Numerical columns\n",
        "    numerical_cols = df.select_dtypes(include=['number']).columns.tolist()\n",
        "    print(\"Numerical Columns:\")\n",
        "    print(numerical_cols)\n",
        "\n",
        "    # Categorical columns\n",
        "    categorical_cols = df.select_dtypes(include=['object', 'category']).columns.tolist()\n",
        "    print(\"\\nCategorical Columns:\")\n",
        "    print(categorical_cols)\n",
        "\n",
        "print_numerical_and_categorical_columns(df_train)"
      ]
    },
    {
      "cell_type": "code",
      "execution_count": null,
      "id": "17cf199c",
      "metadata": {
        "execution": {
          "iopub.execute_input": "2024-03-06T20:23:40.018402Z",
          "iopub.status.busy": "2024-03-06T20:23:40.016731Z",
          "iopub.status.idle": "2024-03-06T20:23:40.025481Z",
          "shell.execute_reply": "2024-03-06T20:23:40.024079Z"
        },
        "papermill": {
          "duration": 0.025917,
          "end_time": "2024-03-06T20:23:40.028835",
          "exception": false,
          "start_time": "2024-03-06T20:23:40.002918",
          "status": "completed"
        },
        "scrolled": true,
        "tags": [],
        "id": "17cf199c",
        "outputId": "5cb68180-70a4-49e8-9b27-c4d891034c80"
      },
      "outputs": [
        {
          "name": "stdout",
          "output_type": "stream",
          "text": [
            "Numerical Columns:\n",
            "['Age', 'RoomService', 'FoodCourt', 'ShoppingMall', 'Spa', 'VRDeck']\n",
            "\n",
            "Categorical Columns:\n",
            "['PassengerId', 'HomePlanet', 'CryoSleep', 'Cabin', 'Destination', 'VIP']\n"
          ]
        }
      ],
      "source": [
        "print_numerical_and_categorical_columns(df_test)"
      ]
    },
    {
      "cell_type": "code",
      "execution_count": null,
      "id": "b1018208",
      "metadata": {
        "execution": {
          "iopub.execute_input": "2024-03-06T20:23:40.058424Z",
          "iopub.status.busy": "2024-03-06T20:23:40.057601Z",
          "iopub.status.idle": "2024-03-06T20:23:40.087905Z",
          "shell.execute_reply": "2024-03-06T20:23:40.086113Z"
        },
        "papermill": {
          "duration": 0.048604,
          "end_time": "2024-03-06T20:23:40.090956",
          "exception": false,
          "start_time": "2024-03-06T20:23:40.042352",
          "status": "completed"
        },
        "tags": [],
        "id": "b1018208",
        "outputId": "d44ffee0-8399-465b-c16a-9e132f08306b"
      },
      "outputs": [
        {
          "data": {
            "text/html": [
              "<div>\n",
              "<style scoped>\n",
              "    .dataframe tbody tr th:only-of-type {\n",
              "        vertical-align: middle;\n",
              "    }\n",
              "\n",
              "    .dataframe tbody tr th {\n",
              "        vertical-align: top;\n",
              "    }\n",
              "\n",
              "    .dataframe thead th {\n",
              "        text-align: right;\n",
              "    }\n",
              "</style>\n",
              "<table border=\"1\" class=\"dataframe\">\n",
              "  <thead>\n",
              "    <tr style=\"text-align: right;\">\n",
              "      <th></th>\n",
              "      <th>PassengerId</th>\n",
              "      <th>HomePlanet</th>\n",
              "      <th>CryoSleep</th>\n",
              "      <th>Cabin</th>\n",
              "      <th>Destination</th>\n",
              "      <th>Age</th>\n",
              "      <th>VIP</th>\n",
              "      <th>RoomService</th>\n",
              "      <th>FoodCourt</th>\n",
              "      <th>ShoppingMall</th>\n",
              "      <th>Spa</th>\n",
              "      <th>VRDeck</th>\n",
              "      <th>Transported</th>\n",
              "    </tr>\n",
              "  </thead>\n",
              "  <tbody>\n",
              "    <tr>\n",
              "      <th>0</th>\n",
              "      <td>0001_01</td>\n",
              "      <td>Europa</td>\n",
              "      <td>False</td>\n",
              "      <td>B/0/P</td>\n",
              "      <td>TRAPPIST-1e</td>\n",
              "      <td>39.0</td>\n",
              "      <td>False</td>\n",
              "      <td>0.0</td>\n",
              "      <td>0.0</td>\n",
              "      <td>0.0</td>\n",
              "      <td>0.0</td>\n",
              "      <td>0.0</td>\n",
              "      <td>False</td>\n",
              "    </tr>\n",
              "    <tr>\n",
              "      <th>1</th>\n",
              "      <td>0002_01</td>\n",
              "      <td>Earth</td>\n",
              "      <td>False</td>\n",
              "      <td>F/0/S</td>\n",
              "      <td>TRAPPIST-1e</td>\n",
              "      <td>24.0</td>\n",
              "      <td>False</td>\n",
              "      <td>109.0</td>\n",
              "      <td>9.0</td>\n",
              "      <td>25.0</td>\n",
              "      <td>549.0</td>\n",
              "      <td>44.0</td>\n",
              "      <td>True</td>\n",
              "    </tr>\n",
              "    <tr>\n",
              "      <th>2</th>\n",
              "      <td>0003_01</td>\n",
              "      <td>Europa</td>\n",
              "      <td>False</td>\n",
              "      <td>A/0/S</td>\n",
              "      <td>TRAPPIST-1e</td>\n",
              "      <td>58.0</td>\n",
              "      <td>True</td>\n",
              "      <td>43.0</td>\n",
              "      <td>3576.0</td>\n",
              "      <td>0.0</td>\n",
              "      <td>6715.0</td>\n",
              "      <td>49.0</td>\n",
              "      <td>False</td>\n",
              "    </tr>\n",
              "    <tr>\n",
              "      <th>3</th>\n",
              "      <td>0003_02</td>\n",
              "      <td>Europa</td>\n",
              "      <td>False</td>\n",
              "      <td>A/0/S</td>\n",
              "      <td>TRAPPIST-1e</td>\n",
              "      <td>33.0</td>\n",
              "      <td>False</td>\n",
              "      <td>0.0</td>\n",
              "      <td>1283.0</td>\n",
              "      <td>371.0</td>\n",
              "      <td>3329.0</td>\n",
              "      <td>193.0</td>\n",
              "      <td>False</td>\n",
              "    </tr>\n",
              "    <tr>\n",
              "      <th>4</th>\n",
              "      <td>0004_01</td>\n",
              "      <td>Earth</td>\n",
              "      <td>False</td>\n",
              "      <td>F/1/S</td>\n",
              "      <td>TRAPPIST-1e</td>\n",
              "      <td>16.0</td>\n",
              "      <td>False</td>\n",
              "      <td>303.0</td>\n",
              "      <td>70.0</td>\n",
              "      <td>151.0</td>\n",
              "      <td>565.0</td>\n",
              "      <td>2.0</td>\n",
              "      <td>True</td>\n",
              "    </tr>\n",
              "    <tr>\n",
              "      <th>...</th>\n",
              "      <td>...</td>\n",
              "      <td>...</td>\n",
              "      <td>...</td>\n",
              "      <td>...</td>\n",
              "      <td>...</td>\n",
              "      <td>...</td>\n",
              "      <td>...</td>\n",
              "      <td>...</td>\n",
              "      <td>...</td>\n",
              "      <td>...</td>\n",
              "      <td>...</td>\n",
              "      <td>...</td>\n",
              "      <td>...</td>\n",
              "    </tr>\n",
              "    <tr>\n",
              "      <th>8688</th>\n",
              "      <td>9276_01</td>\n",
              "      <td>Europa</td>\n",
              "      <td>False</td>\n",
              "      <td>A/98/P</td>\n",
              "      <td>55 Cancri e</td>\n",
              "      <td>41.0</td>\n",
              "      <td>True</td>\n",
              "      <td>0.0</td>\n",
              "      <td>6819.0</td>\n",
              "      <td>0.0</td>\n",
              "      <td>1643.0</td>\n",
              "      <td>74.0</td>\n",
              "      <td>False</td>\n",
              "    </tr>\n",
              "    <tr>\n",
              "      <th>8689</th>\n",
              "      <td>9278_01</td>\n",
              "      <td>Earth</td>\n",
              "      <td>True</td>\n",
              "      <td>G/1499/S</td>\n",
              "      <td>PSO J318.5-22</td>\n",
              "      <td>18.0</td>\n",
              "      <td>False</td>\n",
              "      <td>0.0</td>\n",
              "      <td>0.0</td>\n",
              "      <td>0.0</td>\n",
              "      <td>0.0</td>\n",
              "      <td>0.0</td>\n",
              "      <td>False</td>\n",
              "    </tr>\n",
              "    <tr>\n",
              "      <th>8690</th>\n",
              "      <td>9279_01</td>\n",
              "      <td>Earth</td>\n",
              "      <td>False</td>\n",
              "      <td>G/1500/S</td>\n",
              "      <td>TRAPPIST-1e</td>\n",
              "      <td>26.0</td>\n",
              "      <td>False</td>\n",
              "      <td>0.0</td>\n",
              "      <td>0.0</td>\n",
              "      <td>1872.0</td>\n",
              "      <td>1.0</td>\n",
              "      <td>0.0</td>\n",
              "      <td>True</td>\n",
              "    </tr>\n",
              "    <tr>\n",
              "      <th>8691</th>\n",
              "      <td>9280_01</td>\n",
              "      <td>Europa</td>\n",
              "      <td>False</td>\n",
              "      <td>E/608/S</td>\n",
              "      <td>55 Cancri e</td>\n",
              "      <td>32.0</td>\n",
              "      <td>False</td>\n",
              "      <td>0.0</td>\n",
              "      <td>1049.0</td>\n",
              "      <td>0.0</td>\n",
              "      <td>353.0</td>\n",
              "      <td>3235.0</td>\n",
              "      <td>False</td>\n",
              "    </tr>\n",
              "    <tr>\n",
              "      <th>8692</th>\n",
              "      <td>9280_02</td>\n",
              "      <td>Europa</td>\n",
              "      <td>False</td>\n",
              "      <td>E/608/S</td>\n",
              "      <td>TRAPPIST-1e</td>\n",
              "      <td>44.0</td>\n",
              "      <td>False</td>\n",
              "      <td>126.0</td>\n",
              "      <td>4688.0</td>\n",
              "      <td>0.0</td>\n",
              "      <td>0.0</td>\n",
              "      <td>12.0</td>\n",
              "      <td>True</td>\n",
              "    </tr>\n",
              "  </tbody>\n",
              "</table>\n",
              "<p>8693 rows × 13 columns</p>\n",
              "</div>"
            ],
            "text/plain": [
              "     PassengerId HomePlanet CryoSleep     Cabin    Destination   Age    VIP  \\\n",
              "0        0001_01     Europa     False     B/0/P    TRAPPIST-1e  39.0  False   \n",
              "1        0002_01      Earth     False     F/0/S    TRAPPIST-1e  24.0  False   \n",
              "2        0003_01     Europa     False     A/0/S    TRAPPIST-1e  58.0   True   \n",
              "3        0003_02     Europa     False     A/0/S    TRAPPIST-1e  33.0  False   \n",
              "4        0004_01      Earth     False     F/1/S    TRAPPIST-1e  16.0  False   \n",
              "...          ...        ...       ...       ...            ...   ...    ...   \n",
              "8688     9276_01     Europa     False    A/98/P    55 Cancri e  41.0   True   \n",
              "8689     9278_01      Earth      True  G/1499/S  PSO J318.5-22  18.0  False   \n",
              "8690     9279_01      Earth     False  G/1500/S    TRAPPIST-1e  26.0  False   \n",
              "8691     9280_01     Europa     False   E/608/S    55 Cancri e  32.0  False   \n",
              "8692     9280_02     Europa     False   E/608/S    TRAPPIST-1e  44.0  False   \n",
              "\n",
              "      RoomService  FoodCourt  ShoppingMall     Spa  VRDeck  Transported  \n",
              "0             0.0        0.0           0.0     0.0     0.0        False  \n",
              "1           109.0        9.0          25.0   549.0    44.0         True  \n",
              "2            43.0     3576.0           0.0  6715.0    49.0        False  \n",
              "3             0.0     1283.0         371.0  3329.0   193.0        False  \n",
              "4           303.0       70.0         151.0   565.0     2.0         True  \n",
              "...           ...        ...           ...     ...     ...          ...  \n",
              "8688          0.0     6819.0           0.0  1643.0    74.0        False  \n",
              "8689          0.0        0.0           0.0     0.0     0.0        False  \n",
              "8690          0.0        0.0        1872.0     1.0     0.0         True  \n",
              "8691          0.0     1049.0           0.0   353.0  3235.0        False  \n",
              "8692        126.0     4688.0           0.0     0.0    12.0         True  \n",
              "\n",
              "[8693 rows x 13 columns]"
            ]
          },
          "execution_count": 11,
          "metadata": {},
          "output_type": "execute_result"
        }
      ],
      "source": [
        "df_train"
      ]
    },
    {
      "cell_type": "markdown",
      "id": "3d70b001",
      "metadata": {
        "papermill": {
          "duration": 0.01251,
          "end_time": "2024-03-06T20:23:40.116344",
          "exception": false,
          "start_time": "2024-03-06T20:23:40.103834",
          "status": "completed"
        },
        "tags": [],
        "id": "3d70b001"
      },
      "source": [
        "# Data preprocessing"
      ]
    },
    {
      "cell_type": "code",
      "execution_count": null,
      "id": "6421dc15",
      "metadata": {
        "execution": {
          "iopub.execute_input": "2024-03-06T20:23:40.144453Z",
          "iopub.status.busy": "2024-03-06T20:23:40.143962Z",
          "iopub.status.idle": "2024-03-06T20:23:40.339694Z",
          "shell.execute_reply": "2024-03-06T20:23:40.338095Z"
        },
        "papermill": {
          "duration": 0.213907,
          "end_time": "2024-03-06T20:23:40.342898",
          "exception": false,
          "start_time": "2024-03-06T20:23:40.128991",
          "status": "completed"
        },
        "tags": [],
        "id": "6421dc15",
        "outputId": "bf841d58-e4cc-488a-a2b7-f13217ee2ab9"
      },
      "outputs": [
        {
          "name": "stderr",
          "output_type": "stream",
          "text": [
            "/tmp/ipykernel_18/1436881363.py:20: FutureWarning: Downcasting object dtype arrays on .fillna, .ffill, .bfill is deprecated and will change in a future version. Call result.infer_objects(copy=False) instead. To opt-in to the future behavior, set `pd.set_option('future.no_silent_downcasting', True)`\n",
            "  df_train[categorical_columns] = df_train[categorical_columns].fillna(modes)\n",
            "/tmp/ipykernel_18/1436881363.py:21: FutureWarning: Downcasting object dtype arrays on .fillna, .ffill, .bfill is deprecated and will change in a future version. Call result.infer_objects(copy=False) instead. To opt-in to the future behavior, set `pd.set_option('future.no_silent_downcasting', True)`\n",
            "  df_test[categorical_columns] = df_test[categorical_columns].fillna(modes)\n"
          ]
        }
      ],
      "source": [
        "from sklearn.compose import ColumnTransformer\n",
        "from sklearn.model_selection import train_test_split\n",
        "from sklearn.preprocessing import StandardScaler, OneHotEncoder\n",
        "\n",
        "def preprocess_data(df_train, df_test):\n",
        "    # Separate Cabin into 3 columns\n",
        "    df_train[['Cabin_Deck', 'Cabin_Num', 'Cabin_Side']] = df_train['Cabin'].str.split('/', expand=True)\n",
        "    df_test[['Cabin_Deck', 'Cabin_Num', 'Cabin_Side']] = df_test['Cabin'].str.split('/', expand=True)\n",
        "\n",
        "    # Drop original columns\n",
        "    df_train.drop('Cabin', axis=1, inplace=True)\n",
        "    df_test.drop('Cabin', axis=1, inplace=True)\n",
        "\n",
        "    categorical_columns = ['HomePlanet', 'CryoSleep', 'Destination', 'VIP', 'Cabin_Deck', 'Cabin_Num', 'Cabin_Side']\n",
        "\n",
        "    # Most common values in each column\n",
        "    modes = df_train[categorical_columns].mode().iloc[0]\n",
        "\n",
        "    # Fill in missing values with the most common ones\n",
        "    df_train[categorical_columns] = df_train[categorical_columns].fillna(modes)\n",
        "    df_test[categorical_columns] = df_test[categorical_columns].fillna(modes)\n",
        "\n",
        "    numerical_cols = df_train.columns[df_train.dtypes == 'float64']\n",
        "\n",
        "    # Fill in missing values with the average value of each column\n",
        "    df_train[numerical_cols] = df_train[numerical_cols].fillna(df_train[numerical_cols].mean())\n",
        "    df_test[numerical_cols] = df_test[numerical_cols].fillna(df_test[numerical_cols].mean())\n",
        "\n",
        "    # Change Cabin_Num to int\n",
        "    df_train['Cabin_Num'] = df_train['Cabin_Num'].astype(int)\n",
        "    df_test['Cabin_Num'] = df_test['Cabin_Num'].astype(int)\n",
        "\n",
        "    # Separate features and target\n",
        "    X = df_train.drop(['Transported', 'PassengerId'], axis=1)\n",
        "    y = df_train['Transported'].astype(int)  # Convert boolean 'Transported' to int (True to 1, False to 0)\n",
        "\n",
        "    # Define categorical and numerical features\n",
        "    categorical_features = ['HomePlanet', 'CryoSleep', 'Destination', 'VIP', 'Cabin_Deck', 'Cabin_Side']\n",
        "    numerical_features = ['Age', 'RoomService', 'FoodCourt', 'ShoppingMall', 'Spa', 'VRDeck', 'Cabin_Num']\n",
        "\n",
        "    # Create the preprocessing pipelines for both numeric and categorical data\n",
        "    preprocessor = ColumnTransformer(\n",
        "        transformers=[\n",
        "            ('num', StandardScaler(), numerical_features),\n",
        "            ('cat', OneHotEncoder(), categorical_features)\n",
        "        ])\n",
        "\n",
        "    # Apply transformations\n",
        "    X_processed = preprocessor.fit_transform(X)\n",
        "    test_prep = preprocessor.fit_transform(df_test)\n",
        "\n",
        "    # Split the dataset into training and testing sets\n",
        "    X_train, X_test, y_train, y_test = train_test_split(X_processed, y, test_size=0.2, random_state=42)\n",
        "\n",
        "    return X_train, X_test, y_train, y_test,test_prep\n",
        "\n",
        "\n",
        "\n",
        "X_train, X_test, y_train, y_test, test_prep = preprocess_data(df_train, df_test)\n"
      ]
    },
    {
      "cell_type": "code",
      "execution_count": null,
      "id": "7e18c6b3",
      "metadata": {
        "execution": {
          "iopub.execute_input": "2024-03-06T20:23:40.371321Z",
          "iopub.status.busy": "2024-03-06T20:23:40.370837Z",
          "iopub.status.idle": "2024-03-06T20:23:40.405986Z",
          "shell.execute_reply": "2024-03-06T20:23:40.404960Z"
        },
        "papermill": {
          "duration": 0.052479,
          "end_time": "2024-03-06T20:23:40.408461",
          "exception": false,
          "start_time": "2024-03-06T20:23:40.355982",
          "status": "completed"
        },
        "tags": [],
        "id": "7e18c6b3",
        "outputId": "3440e95e-5418-403d-861a-a53366abdf57"
      },
      "outputs": [
        {
          "data": {
            "text/html": [
              "<div>\n",
              "<style scoped>\n",
              "    .dataframe tbody tr th:only-of-type {\n",
              "        vertical-align: middle;\n",
              "    }\n",
              "\n",
              "    .dataframe tbody tr th {\n",
              "        vertical-align: top;\n",
              "    }\n",
              "\n",
              "    .dataframe thead th {\n",
              "        text-align: right;\n",
              "    }\n",
              "</style>\n",
              "<table border=\"1\" class=\"dataframe\">\n",
              "  <thead>\n",
              "    <tr style=\"text-align: right;\">\n",
              "      <th></th>\n",
              "      <th>PassengerId</th>\n",
              "      <th>HomePlanet</th>\n",
              "      <th>CryoSleep</th>\n",
              "      <th>Destination</th>\n",
              "      <th>Age</th>\n",
              "      <th>VIP</th>\n",
              "      <th>RoomService</th>\n",
              "      <th>FoodCourt</th>\n",
              "      <th>ShoppingMall</th>\n",
              "      <th>Spa</th>\n",
              "      <th>VRDeck</th>\n",
              "      <th>Transported</th>\n",
              "      <th>Cabin_Deck</th>\n",
              "      <th>Cabin_Num</th>\n",
              "      <th>Cabin_Side</th>\n",
              "    </tr>\n",
              "  </thead>\n",
              "  <tbody>\n",
              "    <tr>\n",
              "      <th>0</th>\n",
              "      <td>0001_01</td>\n",
              "      <td>Europa</td>\n",
              "      <td>False</td>\n",
              "      <td>TRAPPIST-1e</td>\n",
              "      <td>39.0</td>\n",
              "      <td>False</td>\n",
              "      <td>0.0</td>\n",
              "      <td>0.0</td>\n",
              "      <td>0.0</td>\n",
              "      <td>0.0</td>\n",
              "      <td>0.0</td>\n",
              "      <td>False</td>\n",
              "      <td>B</td>\n",
              "      <td>0</td>\n",
              "      <td>P</td>\n",
              "    </tr>\n",
              "    <tr>\n",
              "      <th>1</th>\n",
              "      <td>0002_01</td>\n",
              "      <td>Earth</td>\n",
              "      <td>False</td>\n",
              "      <td>TRAPPIST-1e</td>\n",
              "      <td>24.0</td>\n",
              "      <td>False</td>\n",
              "      <td>109.0</td>\n",
              "      <td>9.0</td>\n",
              "      <td>25.0</td>\n",
              "      <td>549.0</td>\n",
              "      <td>44.0</td>\n",
              "      <td>True</td>\n",
              "      <td>F</td>\n",
              "      <td>0</td>\n",
              "      <td>S</td>\n",
              "    </tr>\n",
              "    <tr>\n",
              "      <th>2</th>\n",
              "      <td>0003_01</td>\n",
              "      <td>Europa</td>\n",
              "      <td>False</td>\n",
              "      <td>TRAPPIST-1e</td>\n",
              "      <td>58.0</td>\n",
              "      <td>True</td>\n",
              "      <td>43.0</td>\n",
              "      <td>3576.0</td>\n",
              "      <td>0.0</td>\n",
              "      <td>6715.0</td>\n",
              "      <td>49.0</td>\n",
              "      <td>False</td>\n",
              "      <td>A</td>\n",
              "      <td>0</td>\n",
              "      <td>S</td>\n",
              "    </tr>\n",
              "    <tr>\n",
              "      <th>3</th>\n",
              "      <td>0003_02</td>\n",
              "      <td>Europa</td>\n",
              "      <td>False</td>\n",
              "      <td>TRAPPIST-1e</td>\n",
              "      <td>33.0</td>\n",
              "      <td>False</td>\n",
              "      <td>0.0</td>\n",
              "      <td>1283.0</td>\n",
              "      <td>371.0</td>\n",
              "      <td>3329.0</td>\n",
              "      <td>193.0</td>\n",
              "      <td>False</td>\n",
              "      <td>A</td>\n",
              "      <td>0</td>\n",
              "      <td>S</td>\n",
              "    </tr>\n",
              "    <tr>\n",
              "      <th>4</th>\n",
              "      <td>0004_01</td>\n",
              "      <td>Earth</td>\n",
              "      <td>False</td>\n",
              "      <td>TRAPPIST-1e</td>\n",
              "      <td>16.0</td>\n",
              "      <td>False</td>\n",
              "      <td>303.0</td>\n",
              "      <td>70.0</td>\n",
              "      <td>151.0</td>\n",
              "      <td>565.0</td>\n",
              "      <td>2.0</td>\n",
              "      <td>True</td>\n",
              "      <td>F</td>\n",
              "      <td>1</td>\n",
              "      <td>S</td>\n",
              "    </tr>\n",
              "    <tr>\n",
              "      <th>...</th>\n",
              "      <td>...</td>\n",
              "      <td>...</td>\n",
              "      <td>...</td>\n",
              "      <td>...</td>\n",
              "      <td>...</td>\n",
              "      <td>...</td>\n",
              "      <td>...</td>\n",
              "      <td>...</td>\n",
              "      <td>...</td>\n",
              "      <td>...</td>\n",
              "      <td>...</td>\n",
              "      <td>...</td>\n",
              "      <td>...</td>\n",
              "      <td>...</td>\n",
              "      <td>...</td>\n",
              "    </tr>\n",
              "    <tr>\n",
              "      <th>8688</th>\n",
              "      <td>9276_01</td>\n",
              "      <td>Europa</td>\n",
              "      <td>False</td>\n",
              "      <td>55 Cancri e</td>\n",
              "      <td>41.0</td>\n",
              "      <td>True</td>\n",
              "      <td>0.0</td>\n",
              "      <td>6819.0</td>\n",
              "      <td>0.0</td>\n",
              "      <td>1643.0</td>\n",
              "      <td>74.0</td>\n",
              "      <td>False</td>\n",
              "      <td>A</td>\n",
              "      <td>98</td>\n",
              "      <td>P</td>\n",
              "    </tr>\n",
              "    <tr>\n",
              "      <th>8689</th>\n",
              "      <td>9278_01</td>\n",
              "      <td>Earth</td>\n",
              "      <td>True</td>\n",
              "      <td>PSO J318.5-22</td>\n",
              "      <td>18.0</td>\n",
              "      <td>False</td>\n",
              "      <td>0.0</td>\n",
              "      <td>0.0</td>\n",
              "      <td>0.0</td>\n",
              "      <td>0.0</td>\n",
              "      <td>0.0</td>\n",
              "      <td>False</td>\n",
              "      <td>G</td>\n",
              "      <td>1499</td>\n",
              "      <td>S</td>\n",
              "    </tr>\n",
              "    <tr>\n",
              "      <th>8690</th>\n",
              "      <td>9279_01</td>\n",
              "      <td>Earth</td>\n",
              "      <td>False</td>\n",
              "      <td>TRAPPIST-1e</td>\n",
              "      <td>26.0</td>\n",
              "      <td>False</td>\n",
              "      <td>0.0</td>\n",
              "      <td>0.0</td>\n",
              "      <td>1872.0</td>\n",
              "      <td>1.0</td>\n",
              "      <td>0.0</td>\n",
              "      <td>True</td>\n",
              "      <td>G</td>\n",
              "      <td>1500</td>\n",
              "      <td>S</td>\n",
              "    </tr>\n",
              "    <tr>\n",
              "      <th>8691</th>\n",
              "      <td>9280_01</td>\n",
              "      <td>Europa</td>\n",
              "      <td>False</td>\n",
              "      <td>55 Cancri e</td>\n",
              "      <td>32.0</td>\n",
              "      <td>False</td>\n",
              "      <td>0.0</td>\n",
              "      <td>1049.0</td>\n",
              "      <td>0.0</td>\n",
              "      <td>353.0</td>\n",
              "      <td>3235.0</td>\n",
              "      <td>False</td>\n",
              "      <td>E</td>\n",
              "      <td>608</td>\n",
              "      <td>S</td>\n",
              "    </tr>\n",
              "    <tr>\n",
              "      <th>8692</th>\n",
              "      <td>9280_02</td>\n",
              "      <td>Europa</td>\n",
              "      <td>False</td>\n",
              "      <td>TRAPPIST-1e</td>\n",
              "      <td>44.0</td>\n",
              "      <td>False</td>\n",
              "      <td>126.0</td>\n",
              "      <td>4688.0</td>\n",
              "      <td>0.0</td>\n",
              "      <td>0.0</td>\n",
              "      <td>12.0</td>\n",
              "      <td>True</td>\n",
              "      <td>E</td>\n",
              "      <td>608</td>\n",
              "      <td>S</td>\n",
              "    </tr>\n",
              "  </tbody>\n",
              "</table>\n",
              "<p>8693 rows × 15 columns</p>\n",
              "</div>"
            ],
            "text/plain": [
              "     PassengerId HomePlanet  CryoSleep    Destination   Age    VIP  \\\n",
              "0        0001_01     Europa      False    TRAPPIST-1e  39.0  False   \n",
              "1        0002_01      Earth      False    TRAPPIST-1e  24.0  False   \n",
              "2        0003_01     Europa      False    TRAPPIST-1e  58.0   True   \n",
              "3        0003_02     Europa      False    TRAPPIST-1e  33.0  False   \n",
              "4        0004_01      Earth      False    TRAPPIST-1e  16.0  False   \n",
              "...          ...        ...        ...            ...   ...    ...   \n",
              "8688     9276_01     Europa      False    55 Cancri e  41.0   True   \n",
              "8689     9278_01      Earth       True  PSO J318.5-22  18.0  False   \n",
              "8690     9279_01      Earth      False    TRAPPIST-1e  26.0  False   \n",
              "8691     9280_01     Europa      False    55 Cancri e  32.0  False   \n",
              "8692     9280_02     Europa      False    TRAPPIST-1e  44.0  False   \n",
              "\n",
              "      RoomService  FoodCourt  ShoppingMall     Spa  VRDeck  Transported  \\\n",
              "0             0.0        0.0           0.0     0.0     0.0        False   \n",
              "1           109.0        9.0          25.0   549.0    44.0         True   \n",
              "2            43.0     3576.0           0.0  6715.0    49.0        False   \n",
              "3             0.0     1283.0         371.0  3329.0   193.0        False   \n",
              "4           303.0       70.0         151.0   565.0     2.0         True   \n",
              "...           ...        ...           ...     ...     ...          ...   \n",
              "8688          0.0     6819.0           0.0  1643.0    74.0        False   \n",
              "8689          0.0        0.0           0.0     0.0     0.0        False   \n",
              "8690          0.0        0.0        1872.0     1.0     0.0         True   \n",
              "8691          0.0     1049.0           0.0   353.0  3235.0        False   \n",
              "8692        126.0     4688.0           0.0     0.0    12.0         True   \n",
              "\n",
              "     Cabin_Deck  Cabin_Num Cabin_Side  \n",
              "0             B          0          P  \n",
              "1             F          0          S  \n",
              "2             A          0          S  \n",
              "3             A          0          S  \n",
              "4             F          1          S  \n",
              "...         ...        ...        ...  \n",
              "8688          A         98          P  \n",
              "8689          G       1499          S  \n",
              "8690          G       1500          S  \n",
              "8691          E        608          S  \n",
              "8692          E        608          S  \n",
              "\n",
              "[8693 rows x 15 columns]"
            ]
          },
          "execution_count": 13,
          "metadata": {},
          "output_type": "execute_result"
        }
      ],
      "source": [
        "df_train"
      ]
    },
    {
      "cell_type": "code",
      "execution_count": null,
      "id": "ac7b49bb",
      "metadata": {
        "execution": {
          "iopub.execute_input": "2024-03-06T20:23:40.439305Z",
          "iopub.status.busy": "2024-03-06T20:23:40.437953Z",
          "iopub.status.idle": "2024-03-06T20:23:40.445188Z",
          "shell.execute_reply": "2024-03-06T20:23:40.443803Z"
        },
        "papermill": {
          "duration": 0.026391,
          "end_time": "2024-03-06T20:23:40.448046",
          "exception": false,
          "start_time": "2024-03-06T20:23:40.421655",
          "status": "completed"
        },
        "tags": [],
        "id": "ac7b49bb"
      },
      "outputs": [],
      "source": [
        "# # Separate features and target\n",
        "# X = df_train.drop(['Transported', 'PassengerId'], axis=1)\n",
        "# y = df_train['Transported'].astype(int)  # Convert boolean 'Transported' to int (True to 1, False to 0)\n",
        "# # Apply transformations\n",
        "# X_processed = preprocessor.fit_transform(X)"
      ]
    },
    {
      "cell_type": "code",
      "execution_count": null,
      "id": "9b5ccbdb",
      "metadata": {
        "execution": {
          "iopub.execute_input": "2024-03-06T20:23:40.477782Z",
          "iopub.status.busy": "2024-03-06T20:23:40.477305Z",
          "iopub.status.idle": "2024-03-06T20:23:40.482601Z",
          "shell.execute_reply": "2024-03-06T20:23:40.481209Z"
        },
        "papermill": {
          "duration": 0.023516,
          "end_time": "2024-03-06T20:23:40.485360",
          "exception": false,
          "start_time": "2024-03-06T20:23:40.461844",
          "status": "completed"
        },
        "tags": [],
        "id": "9b5ccbdb"
      },
      "outputs": [],
      "source": [
        "# # Split the dataset into training and testing sets\n",
        "# X_train, X_test, y_train, y_test = train_test_split(X_processed, y, test_size=0.2, random_state=42)\n"
      ]
    },
    {
      "cell_type": "code",
      "execution_count": null,
      "id": "b544e975",
      "metadata": {
        "execution": {
          "iopub.execute_input": "2024-03-06T20:23:40.514879Z",
          "iopub.status.busy": "2024-03-06T20:23:40.514372Z",
          "iopub.status.idle": "2024-03-06T20:23:40.522507Z",
          "shell.execute_reply": "2024-03-06T20:23:40.521116Z"
        },
        "papermill": {
          "duration": 0.0265,
          "end_time": "2024-03-06T20:23:40.525503",
          "exception": false,
          "start_time": "2024-03-06T20:23:40.499003",
          "status": "completed"
        },
        "tags": [],
        "id": "b544e975",
        "outputId": "2103ac6a-4b8e-4059-83d9-47ec0a0d8dca"
      },
      "outputs": [
        {
          "data": {
            "text/plain": [
              "6954"
            ]
          },
          "execution_count": 16,
          "metadata": {},
          "output_type": "execute_result"
        }
      ],
      "source": [
        "len(X_train)"
      ]
    },
    {
      "cell_type": "code",
      "execution_count": null,
      "id": "11e123e8",
      "metadata": {
        "execution": {
          "iopub.execute_input": "2024-03-06T20:23:40.555787Z",
          "iopub.status.busy": "2024-03-06T20:23:40.555286Z",
          "iopub.status.idle": "2024-03-06T20:23:40.563502Z",
          "shell.execute_reply": "2024-03-06T20:23:40.562173Z"
        },
        "papermill": {
          "duration": 0.026782,
          "end_time": "2024-03-06T20:23:40.566253",
          "exception": false,
          "start_time": "2024-03-06T20:23:40.539471",
          "status": "completed"
        },
        "scrolled": true,
        "tags": [],
        "id": "11e123e8",
        "outputId": "8d6e1da9-6294-42eb-bc0a-db0b5b5dd214"
      },
      "outputs": [
        {
          "data": {
            "text/plain": [
              "1739"
            ]
          },
          "execution_count": 17,
          "metadata": {},
          "output_type": "execute_result"
        }
      ],
      "source": [
        "len(X_test)"
      ]
    },
    {
      "cell_type": "code",
      "execution_count": null,
      "id": "c0e3d985",
      "metadata": {
        "execution": {
          "iopub.execute_input": "2024-03-06T20:23:40.596527Z",
          "iopub.status.busy": "2024-03-06T20:23:40.596028Z",
          "iopub.status.idle": "2024-03-06T20:23:40.606426Z",
          "shell.execute_reply": "2024-03-06T20:23:40.604978Z"
        },
        "papermill": {
          "duration": 0.029087,
          "end_time": "2024-03-06T20:23:40.609094",
          "exception": false,
          "start_time": "2024-03-06T20:23:40.580007",
          "status": "completed"
        },
        "tags": [],
        "id": "c0e3d985",
        "outputId": "10474039-3a64-4e30-a6e6-9670d29c1aa1"
      },
      "outputs": [
        {
          "data": {
            "text/plain": [
              "array([[-0.05774287, -0.34058987, -0.25281708, ...,  0.        ,\n",
              "         0.        ,  1.        ],\n",
              "       [-0.82492266, -0.34058987,  0.46221088, ...,  0.        ,\n",
              "         1.        ,  0.        ],\n",
              "       [-0.05774287, -0.34058987, -0.28731404, ...,  0.        ,\n",
              "         0.        ,  1.        ],\n",
              "       ...,\n",
              "       [-0.47620457, -0.10108758, -0.28731404, ...,  0.        ,\n",
              "         1.        ,  0.        ],\n",
              "       [ 0.36071884,  0.23391246, -0.28731404, ...,  0.        ,\n",
              "         1.        ,  0.        ],\n",
              "       [-0.05774287, -0.32997901,  0.01939532, ...,  0.        ,\n",
              "         1.        ,  0.        ]])"
            ]
          },
          "execution_count": 18,
          "metadata": {},
          "output_type": "execute_result"
        }
      ],
      "source": [
        "X_train"
      ]
    },
    {
      "cell_type": "markdown",
      "id": "a271afa7",
      "metadata": {
        "papermill": {
          "duration": 0.01382,
          "end_time": "2024-03-06T20:23:40.637777",
          "exception": false,
          "start_time": "2024-03-06T20:23:40.623957",
          "status": "completed"
        },
        "tags": [],
        "id": "a271afa7"
      },
      "source": [
        "# Model"
      ]
    },
    {
      "cell_type": "code",
      "execution_count": null,
      "id": "19f44378",
      "metadata": {
        "execution": {
          "iopub.execute_input": "2024-03-06T20:23:40.667990Z",
          "iopub.status.busy": "2024-03-06T20:23:40.667498Z",
          "iopub.status.idle": "2024-03-06T20:23:59.230925Z",
          "shell.execute_reply": "2024-03-06T20:23:59.228977Z"
        },
        "papermill": {
          "duration": 18.582345,
          "end_time": "2024-03-06T20:23:59.234328",
          "exception": false,
          "start_time": "2024-03-06T20:23:40.651983",
          "status": "completed"
        },
        "tags": [],
        "id": "19f44378",
        "outputId": "fa970708-7514-404b-a2f7-698cae2e0b61"
      },
      "outputs": [
        {
          "name": "stdout",
          "output_type": "stream",
          "text": [
            "Requirement already satisfied: lightgbm in /opt/conda/lib/python3.10/site-packages (4.2.0)\r\n",
            "Requirement already satisfied: numpy in /opt/conda/lib/python3.10/site-packages (from lightgbm) (1.26.4)\r\n",
            "Requirement already satisfied: scipy in /opt/conda/lib/python3.10/site-packages (from lightgbm) (1.11.4)\r\n"
          ]
        }
      ],
      "source": [
        "!pip install lightgbm"
      ]
    },
    {
      "cell_type": "code",
      "execution_count": null,
      "id": "300c7b06",
      "metadata": {
        "execution": {
          "iopub.execute_input": "2024-03-06T20:23:59.266282Z",
          "iopub.status.busy": "2024-03-06T20:23:59.265774Z",
          "iopub.status.idle": "2024-03-06T20:24:12.033504Z",
          "shell.execute_reply": "2024-03-06T20:24:12.030621Z"
        },
        "papermill": {
          "duration": 12.787449,
          "end_time": "2024-03-06T20:24:12.036552",
          "exception": false,
          "start_time": "2024-03-06T20:23:59.249103",
          "status": "completed"
        },
        "tags": [],
        "id": "300c7b06",
        "outputId": "9a39986f-db8b-405a-ac9b-5caba483c8fc"
      },
      "outputs": [
        {
          "name": "stdout",
          "output_type": "stream",
          "text": [
            "[LightGBM] [Info] Number of positive: 3500, number of negative: 3454\n",
            "[LightGBM] [Info] Auto-choosing row-wise multi-threading, the overhead of testing was 0.002049 seconds.\n",
            "You can set `force_row_wise=true` to remove the overhead.\n",
            "And if memory is not enough, you can set `force_col_wise=true`.\n",
            "[LightGBM] [Info] Total Bins 1648\n",
            "[LightGBM] [Info] Number of data points in the train set: 6954, number of used features: 26\n",
            "[LightGBM] [Info] [binary:BoostFromScore]: pavg=0.503307 -> initscore=0.013230\n",
            "[LightGBM] [Info] Start training from score 0.013230\n",
            "Best Hyperparameters for LightGBM: {'max_depth': None, 'n_estimators': 50}\n"
          ]
        }
      ],
      "source": [
        "lgb_classifier = LGBMClassifier()\n",
        "param_grid = {'n_estimators': [50, 100, 200],\n",
        "              'max_depth': [None, 10, 20]}\n",
        "\n",
        "grid_search_lgb = GridSearchCV(estimator=lgb_classifier, param_grid=param_grid, cv=3, scoring='neg_log_loss', n_jobs=-1)\n",
        "grid_search_lgb.fit(X_train, y_train)\n",
        "\n",
        "print(\"Best Hyperparameters for LightGBM:\", grid_search_lgb.best_params_)\n",
        "best_lgb_model = grid_search_lgb.best_estimator_\n"
      ]
    },
    {
      "cell_type": "code",
      "execution_count": null,
      "id": "20748db1",
      "metadata": {
        "execution": {
          "iopub.execute_input": "2024-03-06T20:24:12.070338Z",
          "iopub.status.busy": "2024-03-06T20:24:12.069848Z",
          "iopub.status.idle": "2024-03-06T20:24:12.084736Z",
          "shell.execute_reply": "2024-03-06T20:24:12.083566Z"
        },
        "papermill": {
          "duration": 0.037146,
          "end_time": "2024-03-06T20:24:12.088315",
          "exception": false,
          "start_time": "2024-03-06T20:24:12.051169",
          "status": "completed"
        },
        "tags": [],
        "id": "20748db1"
      },
      "outputs": [],
      "source": [
        "y_pred_lgb2 = best_lgb_model.predict(X_test)"
      ]
    },
    {
      "cell_type": "code",
      "execution_count": null,
      "id": "bd2287d0",
      "metadata": {
        "execution": {
          "iopub.execute_input": "2024-03-06T20:24:12.122150Z",
          "iopub.status.busy": "2024-03-06T20:24:12.121378Z",
          "iopub.status.idle": "2024-03-06T20:24:12.130116Z",
          "shell.execute_reply": "2024-03-06T20:24:12.128335Z"
        },
        "papermill": {
          "duration": 0.029964,
          "end_time": "2024-03-06T20:24:12.132649",
          "exception": false,
          "start_time": "2024-03-06T20:24:12.102685",
          "status": "completed"
        },
        "tags": [],
        "id": "bd2287d0",
        "outputId": "2339a2d1-779e-401c-99e8-75bde451c8bb"
      },
      "outputs": [
        {
          "name": "stdout",
          "output_type": "stream",
          "text": [
            "Accuracy with LightGBM: 0.8062104657849338\n"
          ]
        }
      ],
      "source": [
        "accuracy_2_lgb = accuracy_score(y_test, y_pred_lgb2)\n",
        "print(\"Accuracy with LightGBM:\", accuracy_2_lgb)"
      ]
    },
    {
      "cell_type": "code",
      "execution_count": null,
      "id": "d59c0874",
      "metadata": {
        "execution": {
          "iopub.execute_input": "2024-03-06T20:24:12.165509Z",
          "iopub.status.busy": "2024-03-06T20:24:12.164705Z",
          "iopub.status.idle": "2024-03-06T20:24:12.187412Z",
          "shell.execute_reply": "2024-03-06T20:24:12.186243Z"
        },
        "papermill": {
          "duration": 0.043238,
          "end_time": "2024-03-06T20:24:12.190447",
          "exception": false,
          "start_time": "2024-03-06T20:24:12.147209",
          "status": "completed"
        },
        "tags": [],
        "id": "d59c0874"
      },
      "outputs": [],
      "source": [
        "y_pred_lgb = best_lgb_model.predict(test_prep)"
      ]
    },
    {
      "cell_type": "code",
      "execution_count": null,
      "id": "4c57211c",
      "metadata": {
        "execution": {
          "iopub.execute_input": "2024-03-06T20:24:12.221931Z",
          "iopub.status.busy": "2024-03-06T20:24:12.221255Z",
          "iopub.status.idle": "2024-03-06T20:24:12.237142Z",
          "shell.execute_reply": "2024-03-06T20:24:12.236197Z"
        },
        "papermill": {
          "duration": 0.034896,
          "end_time": "2024-03-06T20:24:12.239769",
          "exception": false,
          "start_time": "2024-03-06T20:24:12.204873",
          "status": "completed"
        },
        "tags": [],
        "id": "4c57211c",
        "outputId": "bcc0b5c6-2bc2-49f3-f9f5-6d8617e22216"
      },
      "outputs": [
        {
          "data": {
            "text/html": [
              "<div>\n",
              "<style scoped>\n",
              "    .dataframe tbody tr th:only-of-type {\n",
              "        vertical-align: middle;\n",
              "    }\n",
              "\n",
              "    .dataframe tbody tr th {\n",
              "        vertical-align: top;\n",
              "    }\n",
              "\n",
              "    .dataframe thead th {\n",
              "        text-align: right;\n",
              "    }\n",
              "</style>\n",
              "<table border=\"1\" class=\"dataframe\">\n",
              "  <thead>\n",
              "    <tr style=\"text-align: right;\">\n",
              "      <th></th>\n",
              "      <th>PassengerId</th>\n",
              "      <th>Transported</th>\n",
              "    </tr>\n",
              "  </thead>\n",
              "  <tbody>\n",
              "    <tr>\n",
              "      <th>0</th>\n",
              "      <td>0013_01</td>\n",
              "      <td>True</td>\n",
              "    </tr>\n",
              "    <tr>\n",
              "      <th>1</th>\n",
              "      <td>0018_01</td>\n",
              "      <td>False</td>\n",
              "    </tr>\n",
              "    <tr>\n",
              "      <th>2</th>\n",
              "      <td>0019_01</td>\n",
              "      <td>True</td>\n",
              "    </tr>\n",
              "    <tr>\n",
              "      <th>3</th>\n",
              "      <td>0021_01</td>\n",
              "      <td>True</td>\n",
              "    </tr>\n",
              "    <tr>\n",
              "      <th>4</th>\n",
              "      <td>0023_01</td>\n",
              "      <td>True</td>\n",
              "    </tr>\n",
              "    <tr>\n",
              "      <th>...</th>\n",
              "      <td>...</td>\n",
              "      <td>...</td>\n",
              "    </tr>\n",
              "    <tr>\n",
              "      <th>4272</th>\n",
              "      <td>9266_02</td>\n",
              "      <td>True</td>\n",
              "    </tr>\n",
              "    <tr>\n",
              "      <th>4273</th>\n",
              "      <td>9269_01</td>\n",
              "      <td>True</td>\n",
              "    </tr>\n",
              "    <tr>\n",
              "      <th>4274</th>\n",
              "      <td>9271_01</td>\n",
              "      <td>True</td>\n",
              "    </tr>\n",
              "    <tr>\n",
              "      <th>4275</th>\n",
              "      <td>9273_01</td>\n",
              "      <td>True</td>\n",
              "    </tr>\n",
              "    <tr>\n",
              "      <th>4276</th>\n",
              "      <td>9277_01</td>\n",
              "      <td>True</td>\n",
              "    </tr>\n",
              "  </tbody>\n",
              "</table>\n",
              "<p>4277 rows × 2 columns</p>\n",
              "</div>"
            ],
            "text/plain": [
              "     PassengerId  Transported\n",
              "0        0013_01         True\n",
              "1        0018_01        False\n",
              "2        0019_01         True\n",
              "3        0021_01         True\n",
              "4        0023_01         True\n",
              "...          ...          ...\n",
              "4272     9266_02         True\n",
              "4273     9269_01         True\n",
              "4274     9271_01         True\n",
              "4275     9273_01         True\n",
              "4276     9277_01         True\n",
              "\n",
              "[4277 rows x 2 columns]"
            ]
          },
          "execution_count": 24,
          "metadata": {},
          "output_type": "execute_result"
        }
      ],
      "source": [
        "pred_df = pd.DataFrame({'PassengerId': df_test['PassengerId'],\n",
        "                       'Transported': y_pred_lgb})\n",
        "\n",
        "# Change the data type of the 'Transported' column to boolean\n",
        "pred_df['Transported'] = pred_df['Transported'].astype(bool)\n",
        "\n",
        "pred_df"
      ]
    },
    {
      "cell_type": "code",
      "execution_count": null,
      "id": "4c272d0b",
      "metadata": {
        "execution": {
          "iopub.execute_input": "2024-03-06T20:24:12.271531Z",
          "iopub.status.busy": "2024-03-06T20:24:12.270906Z",
          "iopub.status.idle": "2024-03-06T20:24:12.285663Z",
          "shell.execute_reply": "2024-03-06T20:24:12.284707Z"
        },
        "papermill": {
          "duration": 0.034341,
          "end_time": "2024-03-06T20:24:12.288681",
          "exception": false,
          "start_time": "2024-03-06T20:24:12.254340",
          "status": "completed"
        },
        "tags": [],
        "id": "4c272d0b"
      },
      "outputs": [],
      "source": [
        "pred_df.to_csv(\"sample_submission.csv\", index = False)"
      ]
    },
    {
      "cell_type": "code",
      "execution_count": null,
      "id": "2f6f386d",
      "metadata": {
        "execution": {
          "iopub.execute_input": "2024-03-06T20:24:12.319983Z",
          "iopub.status.busy": "2024-03-06T20:24:12.319497Z",
          "iopub.status.idle": "2024-03-06T20:24:12.325429Z",
          "shell.execute_reply": "2024-03-06T20:24:12.324514Z"
        },
        "papermill": {
          "duration": 0.024668,
          "end_time": "2024-03-06T20:24:12.327761",
          "exception": false,
          "start_time": "2024-03-06T20:24:12.303093",
          "status": "completed"
        },
        "tags": [],
        "id": "2f6f386d",
        "outputId": "185be9c9-abea-4dfc-c584-4c0bc9dfeac7"
      },
      "outputs": [
        {
          "data": {
            "text/plain": [
              "4277"
            ]
          },
          "execution_count": 26,
          "metadata": {},
          "output_type": "execute_result"
        }
      ],
      "source": [
        "len(pred_df)"
      ]
    },
    {
      "cell_type": "code",
      "execution_count": null,
      "id": "6af8f82d",
      "metadata": {
        "papermill": {
          "duration": 0.014353,
          "end_time": "2024-03-06T20:24:12.356650",
          "exception": false,
          "start_time": "2024-03-06T20:24:12.342297",
          "status": "completed"
        },
        "tags": [],
        "id": "6af8f82d"
      },
      "outputs": [],
      "source": []
    }
  ],
  "metadata": {
    "kaggle": {
      "accelerator": "none",
      "dataSources": [
        {
          "databundleVersionId": 3220602,
          "sourceId": 34377,
          "sourceType": "competition"
        }
      ],
      "dockerImageVersionId": 30664,
      "isGpuEnabled": false,
      "isInternetEnabled": true,
      "language": "python",
      "sourceType": "notebook"
    },
    "kernelspec": {
      "display_name": "Python 3",
      "language": "python",
      "name": "python3"
    },
    "language_info": {
      "codemirror_mode": {
        "name": "ipython",
        "version": 3
      },
      "file_extension": ".py",
      "mimetype": "text/x-python",
      "name": "python",
      "nbconvert_exporter": "python",
      "pygments_lexer": "ipython3",
      "version": "3.10.13"
    },
    "papermill": {
      "default_parameters": {},
      "duration": 43.975271,
      "end_time": "2024-03-06T20:24:14.997343",
      "environment_variables": {},
      "exception": null,
      "input_path": "__notebook__.ipynb",
      "output_path": "__notebook__.ipynb",
      "parameters": {},
      "start_time": "2024-03-06T20:23:31.022072",
      "version": "2.5.0"
    },
    "colab": {
      "provenance": [],
      "include_colab_link": true
    }
  },
  "nbformat": 4,
  "nbformat_minor": 5
}